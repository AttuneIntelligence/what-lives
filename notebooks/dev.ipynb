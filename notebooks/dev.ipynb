{
 "cells": [
  {
   "cell_type": "code",
   "execution_count": 4,
   "id": "8a7b32f5-f9d6-4e84-b424-24088b82e961",
   "metadata": {
    "tags": []
   },
   "outputs": [],
   "source": [
    "import json, re, os\n",
    "import pandas as pd\n",
    "import numpy as np\n",
    "import asyncio\n",
    "import nest_asyncio\n",
    "from tqdm.notebook import tqdm\n",
    "nest_asyncio.apply()\n",
    "\n",
    "from src import *"
   ]
  },
  {
   "cell_type": "code",
   "execution_count": 5,
   "id": "e2b91596-792c-4d98-9b86-0718564ca8dd",
   "metadata": {
    "tags": []
   },
   "outputs": [
    {
     "name": "stdout",
     "output_type": "stream",
     "text": [
      "Authenciated to API clients in 0.11 seconds.\n",
      "Initialized model for analysis: Anthropic Claude 3.5 Haiku\n"
     ]
    }
   ],
   "source": [
    "inference = Inference()\n",
    "whatlives = WhatLives(\n",
    "    inference=inference,\n",
    "    model=\"Anthropic Claude 3.5 Haiku\", \n",
    "    n_max=33,\n",
    "    semaphore_limit=9,\n",
    "    n_replicates=3\n",
    ")"
   ]
  },
  {
   "cell_type": "code",
   "execution_count": 6,
   "id": "497fdcf0-baf7-43da-9212-e9e862cb09ce",
   "metadata": {
    "tags": []
   },
   "outputs": [
    {
     "name": "stdout",
     "output_type": "stream",
     "text": [
      "Loading checkpoint from /workspace/what-lives/data/results/Anthropic Claude 3.5 Haiku/correlation_checkpoint_Anthropic Claude 3.5 Haiku.npz\n",
      "Resumed with 100 pairs already computed\n",
      "Computing 989 remaining correlation pairs...\n"
     ]
    },
    {
     "data": {
      "application/vnd.jupyter.widget-view+json": {
       "model_id": "e9ea4b11360241eca77ce81bdd0132ca",
       "version_major": 2,
       "version_minor": 0
      },
      "text/plain": [
       "  0%|          | 0/989 [00:00<?, ?it/s]"
      ]
     },
     "metadata": {},
     "output_type": "display_data"
    },
    {
     "ename": "RateLimitError",
     "evalue": "Error code: 429 - {'message': 'Too many requests, please wait before trying again.'}",
     "output_type": "error",
     "traceback": [
      "\u001b[31m---------------------------------------------------------------------------\u001b[39m",
      "\u001b[31mRateLimitError\u001b[39m                            Traceback (most recent call last)",
      "\u001b[36mCell\u001b[39m\u001b[36m \u001b[39m\u001b[32mIn[6]\u001b[39m\u001b[32m, line 1\u001b[39m\n\u001b[32m----> \u001b[39m\u001b[32m1\u001b[39m \u001b[43mwhatlives\u001b[49m\u001b[43m.\u001b[49m\u001b[43manalyze_definitions\u001b[49m\u001b[43m(\u001b[49m\u001b[43m)\u001b[49m\n\u001b[32m      2\u001b[39m \u001b[38;5;66;03m# inference.test_acomplete()\u001b[39;00m\n",
      "\u001b[36mFile \u001b[39m\u001b[32m/workspace/what-lives/src/what_lives.py:843\u001b[39m, in \u001b[36mWhatLives.analyze_definitions\u001b[39m\u001b[34m(self)\u001b[39m\n\u001b[32m    841\u001b[39m \u001b[38;5;28;01mdef\u001b[39;00m\u001b[38;5;250m \u001b[39m\u001b[34manalyze_definitions\u001b[39m(\u001b[38;5;28mself\u001b[39m):\n\u001b[32m    842\u001b[39m     \u001b[38;5;66;03m### COMPUTE CORRELATION MATRICES OF RESPONSES\u001b[39;00m\n\u001b[32m--> \u001b[39m\u001b[32m843\u001b[39m     M, S = \u001b[38;5;28;43mself\u001b[39;49m\u001b[43m.\u001b[49m\u001b[43mcreate_correlation_matrix\u001b[49m\u001b[43m(\u001b[49m\u001b[43m)\u001b[49m\n\u001b[32m    845\u001b[39m     \u001b[38;5;66;03m### GENERATE CLUSTERED MATRIX\u001b[39;00m\n\u001b[32m    846\u001b[39m     fig, ax_heatmap, ax_dendrogram, cluster_assignments, reordered_idx, color_map = \u001b[38;5;28mself\u001b[39m.plot_clustered_correlation_heatmap(M, \u001b[38;5;28mself\u001b[39m.definitions, filename=\u001b[33m'\u001b[39m\u001b[33mclustered_correlations.png\u001b[39m\u001b[33m'\u001b[39m)\n",
      "\u001b[36mFile \u001b[39m\u001b[32m/workspace/what-lives/src/what_lives.py:279\u001b[39m, in \u001b[36mWhatLives.create_correlation_matrix\u001b[39m\u001b[34m(self, checkpoint_freq, resume_from_checkpoint)\u001b[39m\n\u001b[32m    278\u001b[39m \u001b[38;5;28;01mdef\u001b[39;00m\u001b[38;5;250m \u001b[39m\u001b[34mcreate_correlation_matrix\u001b[39m(\u001b[38;5;28mself\u001b[39m, checkpoint_freq=\u001b[32m100\u001b[39m, resume_from_checkpoint=\u001b[38;5;28;01mTrue\u001b[39;00m):\n\u001b[32m--> \u001b[39m\u001b[32m279\u001b[39m     M, S = \u001b[43masyncio\u001b[49m\u001b[43m.\u001b[49m\u001b[43mrun\u001b[49m\u001b[43m(\u001b[49m\u001b[38;5;28;43mself\u001b[39;49m\u001b[43m.\u001b[49m\u001b[43masync_define_correlation_matrix\u001b[49m\u001b[43m(\u001b[49m\n\u001b[32m    280\u001b[39m \u001b[43m        \u001b[49m\u001b[43mcheckpoint_freq\u001b[49m\u001b[43m=\u001b[49m\u001b[43mcheckpoint_freq\u001b[49m\u001b[43m,\u001b[49m\n\u001b[32m    281\u001b[39m \u001b[43m        \u001b[49m\u001b[43mresume_from_checkpoint\u001b[49m\u001b[43m=\u001b[49m\u001b[43mresume_from_checkpoint\u001b[49m\n\u001b[32m    282\u001b[39m \u001b[43m    \u001b[49m\u001b[43m)\u001b[49m\u001b[43m)\u001b[49m\n\u001b[32m    284\u001b[39m     \u001b[38;5;66;03m### SAVE CORRELATION MATRIX TO FILE\u001b[39;00m\n\u001b[32m    285\u001b[39m     \u001b[38;5;28mself\u001b[39m.save_correlation_matrix(M, matrix_name=\u001b[33mf\u001b[39m\u001b[33m'\u001b[39m\u001b[33mm_correlation_\u001b[39m\u001b[38;5;132;01m{\u001b[39;00m\u001b[38;5;28mself\u001b[39m.model\u001b[38;5;132;01m}\u001b[39;00m\u001b[33m'\u001b[39m)\n",
      "\u001b[36mFile \u001b[39m\u001b[32m~/.local/lib/python3.12/site-packages/nest_asyncio.py:30\u001b[39m, in \u001b[36m_patch_asyncio.<locals>.run\u001b[39m\u001b[34m(main, debug)\u001b[39m\n\u001b[32m     28\u001b[39m task = asyncio.ensure_future(main)\n\u001b[32m     29\u001b[39m \u001b[38;5;28;01mtry\u001b[39;00m:\n\u001b[32m---> \u001b[39m\u001b[32m30\u001b[39m     \u001b[38;5;28;01mreturn\u001b[39;00m \u001b[43mloop\u001b[49m\u001b[43m.\u001b[49m\u001b[43mrun_until_complete\u001b[49m\u001b[43m(\u001b[49m\u001b[43mtask\u001b[49m\u001b[43m)\u001b[49m\n\u001b[32m     31\u001b[39m \u001b[38;5;28;01mfinally\u001b[39;00m:\n\u001b[32m     32\u001b[39m     \u001b[38;5;28;01mif\u001b[39;00m \u001b[38;5;129;01mnot\u001b[39;00m task.done():\n",
      "\u001b[36mFile \u001b[39m\u001b[32m~/.local/lib/python3.12/site-packages/nest_asyncio.py:98\u001b[39m, in \u001b[36m_patch_loop.<locals>.run_until_complete\u001b[39m\u001b[34m(self, future)\u001b[39m\n\u001b[32m     95\u001b[39m \u001b[38;5;28;01mif\u001b[39;00m \u001b[38;5;129;01mnot\u001b[39;00m f.done():\n\u001b[32m     96\u001b[39m     \u001b[38;5;28;01mraise\u001b[39;00m \u001b[38;5;167;01mRuntimeError\u001b[39;00m(\n\u001b[32m     97\u001b[39m         \u001b[33m'\u001b[39m\u001b[33mEvent loop stopped before Future completed.\u001b[39m\u001b[33m'\u001b[39m)\n\u001b[32m---> \u001b[39m\u001b[32m98\u001b[39m \u001b[38;5;28;01mreturn\u001b[39;00m \u001b[43mf\u001b[49m\u001b[43m.\u001b[49m\u001b[43mresult\u001b[49m\u001b[43m(\u001b[49m\u001b[43m)\u001b[49m\n",
      "\u001b[36mFile \u001b[39m\u001b[32m/usr/local/lib/python3.12/asyncio/futures.py:202\u001b[39m, in \u001b[36mFuture.result\u001b[39m\u001b[34m(self)\u001b[39m\n\u001b[32m    200\u001b[39m \u001b[38;5;28mself\u001b[39m.__log_traceback = \u001b[38;5;28;01mFalse\u001b[39;00m\n\u001b[32m    201\u001b[39m \u001b[38;5;28;01mif\u001b[39;00m \u001b[38;5;28mself\u001b[39m._exception \u001b[38;5;129;01mis\u001b[39;00m \u001b[38;5;129;01mnot\u001b[39;00m \u001b[38;5;28;01mNone\u001b[39;00m:\n\u001b[32m--> \u001b[39m\u001b[32m202\u001b[39m     \u001b[38;5;28;01mraise\u001b[39;00m \u001b[38;5;28mself\u001b[39m._exception.with_traceback(\u001b[38;5;28mself\u001b[39m._exception_tb)\n\u001b[32m    203\u001b[39m \u001b[38;5;28;01mreturn\u001b[39;00m \u001b[38;5;28mself\u001b[39m._result\n",
      "\u001b[36mFile \u001b[39m\u001b[32m/usr/local/lib/python3.12/asyncio/tasks.py:314\u001b[39m, in \u001b[36mTask.__step_run_and_handle_result\u001b[39m\u001b[34m(***failed resolving arguments***)\u001b[39m\n\u001b[32m    310\u001b[39m \u001b[38;5;28;01mtry\u001b[39;00m:\n\u001b[32m    311\u001b[39m     \u001b[38;5;28;01mif\u001b[39;00m exc \u001b[38;5;129;01mis\u001b[39;00m \u001b[38;5;28;01mNone\u001b[39;00m:\n\u001b[32m    312\u001b[39m         \u001b[38;5;66;03m# We use the `send` method directly, because coroutines\u001b[39;00m\n\u001b[32m    313\u001b[39m         \u001b[38;5;66;03m# don't have `__iter__` and `__next__` methods.\u001b[39;00m\n\u001b[32m--> \u001b[39m\u001b[32m314\u001b[39m         result = \u001b[43mcoro\u001b[49m\u001b[43m.\u001b[49m\u001b[43msend\u001b[49m\u001b[43m(\u001b[49m\u001b[38;5;28;43;01mNone\u001b[39;49;00m\u001b[43m)\u001b[49m\n\u001b[32m    315\u001b[39m     \u001b[38;5;28;01melse\u001b[39;00m:\n\u001b[32m    316\u001b[39m         result = coro.throw(exc)\n",
      "\u001b[36mFile \u001b[39m\u001b[32m/workspace/what-lives/src/what_lives.py:203\u001b[39m, in \u001b[36mWhatLives.async_define_correlation_matrix\u001b[39m\u001b[34m(self, checkpoint_freq, resume_from_checkpoint)\u001b[39m\n\u001b[32m    201\u001b[39m \u001b[38;5;66;03m# Process all tasks with progress tracking\u001b[39;00m\n\u001b[32m    202\u001b[39m \u001b[38;5;28;01mfor\u001b[39;00m task \u001b[38;5;129;01min\u001b[39;00m tqdm(asyncio.as_completed(tasks), total=\u001b[38;5;28mlen\u001b[39m(tasks)):\n\u001b[32m--> \u001b[39m\u001b[32m203\u001b[39m     i, j, avg, std, cost = \u001b[38;5;28;01mawait\u001b[39;00m task\n\u001b[32m    205\u001b[39m     \u001b[38;5;66;03m# Update matrices\u001b[39;00m\n\u001b[32m    206\u001b[39m     M[i, j] = avg\n",
      "\u001b[36mFile \u001b[39m\u001b[32m/usr/local/lib/python3.12/asyncio/tasks.py:631\u001b[39m, in \u001b[36mas_completed.<locals>._wait_for_one\u001b[39m\u001b[34m()\u001b[39m\n\u001b[32m    628\u001b[39m \u001b[38;5;28;01mif\u001b[39;00m f \u001b[38;5;129;01mis\u001b[39;00m \u001b[38;5;28;01mNone\u001b[39;00m:\n\u001b[32m    629\u001b[39m     \u001b[38;5;66;03m# Dummy value from _on_timeout().\u001b[39;00m\n\u001b[32m    630\u001b[39m     \u001b[38;5;28;01mraise\u001b[39;00m exceptions.TimeoutError\n\u001b[32m--> \u001b[39m\u001b[32m631\u001b[39m \u001b[38;5;28;01mreturn\u001b[39;00m \u001b[43mf\u001b[49m\u001b[43m.\u001b[49m\u001b[43mresult\u001b[49m\u001b[43m(\u001b[49m\u001b[43m)\u001b[49m\n",
      "\u001b[36mFile \u001b[39m\u001b[32m/usr/local/lib/python3.12/asyncio/futures.py:202\u001b[39m, in \u001b[36mFuture.result\u001b[39m\u001b[34m(self)\u001b[39m\n\u001b[32m    200\u001b[39m \u001b[38;5;28mself\u001b[39m.__log_traceback = \u001b[38;5;28;01mFalse\u001b[39;00m\n\u001b[32m    201\u001b[39m \u001b[38;5;28;01mif\u001b[39;00m \u001b[38;5;28mself\u001b[39m._exception \u001b[38;5;129;01mis\u001b[39;00m \u001b[38;5;129;01mnot\u001b[39;00m \u001b[38;5;28;01mNone\u001b[39;00m:\n\u001b[32m--> \u001b[39m\u001b[32m202\u001b[39m     \u001b[38;5;28;01mraise\u001b[39;00m \u001b[38;5;28mself\u001b[39m._exception.with_traceback(\u001b[38;5;28mself\u001b[39m._exception_tb)\n\u001b[32m    203\u001b[39m \u001b[38;5;28;01mreturn\u001b[39;00m \u001b[38;5;28mself\u001b[39m._result\n",
      "\u001b[36mFile \u001b[39m\u001b[32m/usr/local/lib/python3.12/asyncio/tasks.py:316\u001b[39m, in \u001b[36mTask.__step_run_and_handle_result\u001b[39m\u001b[34m(***failed resolving arguments***)\u001b[39m\n\u001b[32m    314\u001b[39m         result = coro.send(\u001b[38;5;28;01mNone\u001b[39;00m)\n\u001b[32m    315\u001b[39m     \u001b[38;5;28;01melse\u001b[39;00m:\n\u001b[32m--> \u001b[39m\u001b[32m316\u001b[39m         result = \u001b[43mcoro\u001b[49m\u001b[43m.\u001b[49m\u001b[43mthrow\u001b[49m\u001b[43m(\u001b[49m\u001b[43mexc\u001b[49m\u001b[43m)\u001b[49m\n\u001b[32m    317\u001b[39m \u001b[38;5;28;01mexcept\u001b[39;00m \u001b[38;5;167;01mStopIteration\u001b[39;00m \u001b[38;5;28;01mas\u001b[39;00m exc:\n\u001b[32m    318\u001b[39m     \u001b[38;5;28;01mif\u001b[39;00m \u001b[38;5;28mself\u001b[39m._must_cancel:\n\u001b[32m    319\u001b[39m         \u001b[38;5;66;03m# Task is cancelled right before coro stops.\u001b[39;00m\n",
      "\u001b[36mFile \u001b[39m\u001b[32m/workspace/what-lives/src/what_lives.py:188\u001b[39m, in \u001b[36mWhatLives.async_define_correlation_matrix.<locals>.process_pair\u001b[39m\u001b[34m(i, j)\u001b[39m\n\u001b[32m    186\u001b[39m \u001b[38;5;28;01masync\u001b[39;00m \u001b[38;5;28;01mdef\u001b[39;00m\u001b[38;5;250m \u001b[39m\u001b[34mprocess_pair\u001b[39m(i, j):\n\u001b[32m    187\u001b[39m     \u001b[38;5;28;01masync\u001b[39;00m \u001b[38;5;28;01mwith\u001b[39;00m semaphore:\n\u001b[32m--> \u001b[39m\u001b[32m188\u001b[39m         avg, std, cost = \u001b[38;5;28;01mawait\u001b[39;00m \u001b[38;5;28mself\u001b[39m.definition_correlation(\n\u001b[32m    189\u001b[39m             def1=\u001b[38;5;28mself\u001b[39m.definitions[i][\u001b[33m'\u001b[39m\u001b[33mDefinition\u001b[39m\u001b[33m'\u001b[39m],\n\u001b[32m    190\u001b[39m             def2=\u001b[38;5;28mself\u001b[39m.definitions[j][\u001b[33m'\u001b[39m\u001b[33mDefinition\u001b[39m\u001b[33m'\u001b[39m]\n\u001b[32m    191\u001b[39m         )\n\u001b[32m    192\u001b[39m         \u001b[38;5;28;01mreturn\u001b[39;00m i, j, avg, std, cost\n",
      "\u001b[36mFile \u001b[39m\u001b[32m/workspace/what-lives/src/what_lives.py:131\u001b[39m, in \u001b[36mWhatLives.definition_correlation\u001b[39m\u001b[34m(self, def1, def2)\u001b[39m\n\u001b[32m    129\u001b[39m \u001b[38;5;66;03m### EXECUTE THREE CORRELATION ANALYSES CONCURRENTLY\u001b[39;00m\n\u001b[32m    130\u001b[39m tasks = [get_single_correlation() \u001b[38;5;28;01mfor\u001b[39;00m _ \u001b[38;5;129;01min\u001b[39;00m \u001b[38;5;28mrange\u001b[39m(\u001b[38;5;28mself\u001b[39m.n_replicates)]\n\u001b[32m--> \u001b[39m\u001b[32m131\u001b[39m results = \u001b[38;5;28;01mawait\u001b[39;00m asyncio.gather(*tasks)\n\u001b[32m    132\u001b[39m scores, costs = \u001b[38;5;28mzip\u001b[39m(*results)\n\u001b[32m    134\u001b[39m \u001b[38;5;66;03m### RETURN AVERAGE CORRELATION, STD, AND TOTAL COST\u001b[39;00m\n",
      "\u001b[36mFile \u001b[39m\u001b[32m/usr/local/lib/python3.12/asyncio/tasks.py:385\u001b[39m, in \u001b[36mTask.__wakeup\u001b[39m\u001b[34m(self, future)\u001b[39m\n\u001b[32m    383\u001b[39m \u001b[38;5;28;01mdef\u001b[39;00m\u001b[38;5;250m \u001b[39m\u001b[34m__wakeup\u001b[39m(\u001b[38;5;28mself\u001b[39m, future):\n\u001b[32m    384\u001b[39m     \u001b[38;5;28;01mtry\u001b[39;00m:\n\u001b[32m--> \u001b[39m\u001b[32m385\u001b[39m         \u001b[43mfuture\u001b[49m\u001b[43m.\u001b[49m\u001b[43mresult\u001b[49m\u001b[43m(\u001b[49m\u001b[43m)\u001b[49m\n\u001b[32m    386\u001b[39m     \u001b[38;5;28;01mexcept\u001b[39;00m \u001b[38;5;167;01mBaseException\u001b[39;00m \u001b[38;5;28;01mas\u001b[39;00m exc:\n\u001b[32m    387\u001b[39m         \u001b[38;5;66;03m# This may also be a cancellation.\u001b[39;00m\n\u001b[32m    388\u001b[39m         \u001b[38;5;28mself\u001b[39m.__step(exc)\n",
      "\u001b[36mFile \u001b[39m\u001b[32m/usr/local/lib/python3.12/asyncio/tasks.py:314\u001b[39m, in \u001b[36mTask.__step_run_and_handle_result\u001b[39m\u001b[34m(***failed resolving arguments***)\u001b[39m\n\u001b[32m    310\u001b[39m \u001b[38;5;28;01mtry\u001b[39;00m:\n\u001b[32m    311\u001b[39m     \u001b[38;5;28;01mif\u001b[39;00m exc \u001b[38;5;129;01mis\u001b[39;00m \u001b[38;5;28;01mNone\u001b[39;00m:\n\u001b[32m    312\u001b[39m         \u001b[38;5;66;03m# We use the `send` method directly, because coroutines\u001b[39;00m\n\u001b[32m    313\u001b[39m         \u001b[38;5;66;03m# don't have `__iter__` and `__next__` methods.\u001b[39;00m\n\u001b[32m--> \u001b[39m\u001b[32m314\u001b[39m         result = \u001b[43mcoro\u001b[49m\u001b[43m.\u001b[49m\u001b[43msend\u001b[49m\u001b[43m(\u001b[49m\u001b[38;5;28;43;01mNone\u001b[39;49;00m\u001b[43m)\u001b[49m\n\u001b[32m    315\u001b[39m     \u001b[38;5;28;01melse\u001b[39;00m:\n\u001b[32m    316\u001b[39m         result = coro.throw(exc)\n",
      "\u001b[36mFile \u001b[39m\u001b[32m/workspace/what-lives/src/what_lives.py:121\u001b[39m, in \u001b[36mWhatLives.definition_correlation.<locals>.get_single_correlation\u001b[39m\u001b[34m()\u001b[39m\n\u001b[32m    120\u001b[39m \u001b[38;5;28;01masync\u001b[39;00m \u001b[38;5;28;01mdef\u001b[39;00m\u001b[38;5;250m \u001b[39m\u001b[34mget_single_correlation\u001b[39m():\n\u001b[32m--> \u001b[39m\u001b[32m121\u001b[39m     score, metadata = \u001b[38;5;28;01mawait\u001b[39;00m \u001b[38;5;28mself\u001b[39m.Inference.acomplete(\n\u001b[32m    122\u001b[39m         text=question, \n\u001b[32m    123\u001b[39m         system_prompt=prompt, \n\u001b[32m    124\u001b[39m         numerical=\u001b[38;5;28;01mTrue\u001b[39;00m,\n\u001b[32m    125\u001b[39m         model=\u001b[38;5;28mself\u001b[39m.model\n\u001b[32m    126\u001b[39m     )\n\u001b[32m    127\u001b[39m     \u001b[38;5;28;01mreturn\u001b[39;00m score, metadata[\u001b[33m\"\u001b[39m\u001b[33mcost\u001b[39m\u001b[33m\"\u001b[39m]\n",
      "\u001b[36mFile \u001b[39m\u001b[32m/workspace/what-lives/src/inference.py:169\u001b[39m, in \u001b[36mInference.acomplete\u001b[39m\u001b[34m(self, text, system_prompt, model, verbose, numerical)\u001b[39m\n\u001b[32m    165\u001b[39m     response, metadata = \u001b[38;5;28;01mawait\u001b[39;00m \u001b[38;5;28mself\u001b[39m.bedrock_acomplete(\n\u001b[32m    166\u001b[39m         text, system_prompt, model=model, verbose=verbose, numerical=numerical\n\u001b[32m    167\u001b[39m     )\n\u001b[32m    168\u001b[39m \u001b[38;5;28;01melif\u001b[39;00m model_meta[\u001b[33m\"\u001b[39m\u001b[33mservice\u001b[39m\u001b[33m\"\u001b[39m] == \u001b[33m\"\u001b[39m\u001b[33manthropic\u001b[39m\u001b[33m\"\u001b[39m:\n\u001b[32m--> \u001b[39m\u001b[32m169\u001b[39m     response, metadata = \u001b[38;5;28;01mawait\u001b[39;00m \u001b[38;5;28mself\u001b[39m.anthropic_acomplete(\n\u001b[32m    170\u001b[39m         text, system_prompt, model=model, verbose=verbose, numerical=numerical\n\u001b[32m    171\u001b[39m     )\n\u001b[32m    172\u001b[39m \u001b[38;5;28;01melif\u001b[39;00m model_meta[\u001b[33m\"\u001b[39m\u001b[33mservice\u001b[39m\u001b[33m\"\u001b[39m] == \u001b[33m\"\u001b[39m\u001b[33mopenai\u001b[39m\u001b[33m\"\u001b[39m:\n\u001b[32m    173\u001b[39m     response, metadata = \u001b[38;5;28;01mawait\u001b[39;00m \u001b[38;5;28mself\u001b[39m.openai_acomplete(\n\u001b[32m    174\u001b[39m         text, system_prompt, model=model, verbose=verbose, numerical=numerical\n\u001b[32m    175\u001b[39m     )\n",
      "\u001b[36mFile \u001b[39m\u001b[32m/workspace/what-lives/src/inference.py:251\u001b[39m, in \u001b[36mInference.anthropic_acomplete\u001b[39m\u001b[34m(self, text, system_prompt, model, verbose, numerical)\u001b[39m\n\u001b[32m    249\u001b[39m retry_count += \u001b[32m1\u001b[39m\n\u001b[32m    250\u001b[39m \u001b[38;5;28;01mif\u001b[39;00m retry_count == \u001b[38;5;28mself\u001b[39m.max_retries:\n\u001b[32m--> \u001b[39m\u001b[32m251\u001b[39m     \u001b[38;5;28;01mraise\u001b[39;00m e\n\u001b[32m    253\u001b[39m \u001b[38;5;66;03m### EXPONENTIAL BACKOFF -- 1s, 2s, 4s ...\u001b[39;00m\n\u001b[32m    254\u001b[39m delay = \u001b[38;5;28mmin\u001b[39m(\u001b[38;5;28mself\u001b[39m.initial_wait * (\u001b[32m2\u001b[39m ** (retry_count - \u001b[32m1\u001b[39m)), \u001b[38;5;28mself\u001b[39m.max_wait)\n",
      "\u001b[36mFile \u001b[39m\u001b[32m/workspace/what-lives/src/inference.py:214\u001b[39m, in \u001b[36mInference.anthropic_acomplete\u001b[39m\u001b[34m(self, text, system_prompt, model, verbose, numerical)\u001b[39m\n\u001b[32m    207\u001b[39m system_template = (\n\u001b[32m    208\u001b[39m     system_prompt\n\u001b[32m    209\u001b[39m     \u001b[38;5;28;01mif\u001b[39;00m system_prompt\n\u001b[32m    210\u001b[39m     \u001b[38;5;28;01melse\u001b[39;00m \u001b[38;5;28mself\u001b[39m._read_prompt_template(\u001b[33m\"\u001b[39m\u001b[33mdefault_prompt\u001b[39m\u001b[33m\"\u001b[39m)\n\u001b[32m    211\u001b[39m )\n\u001b[32m    213\u001b[39m \u001b[38;5;66;03m### ANTHROPIC API COMPLETION\u001b[39;00m\n\u001b[32m--> \u001b[39m\u001b[32m214\u001b[39m response = \u001b[38;5;28;01mawait\u001b[39;00m \u001b[38;5;28mself\u001b[39m.anthropic_aclient.messages.create(\n\u001b[32m    215\u001b[39m     max_tokens=model_meta[\u001b[33m\"\u001b[39m\u001b[33mmax_tokens\u001b[39m\u001b[33m\"\u001b[39m],\n\u001b[32m    216\u001b[39m     system=system_template,\n\u001b[32m    217\u001b[39m     messages=user_message,\n\u001b[32m    218\u001b[39m     model=model_meta[\u001b[33m\"\u001b[39m\u001b[33mmodel_id\u001b[39m\u001b[33m\"\u001b[39m],\n\u001b[32m    219\u001b[39m     temperature=\u001b[38;5;28mself\u001b[39m.temperature,\n\u001b[32m    220\u001b[39m     top_p=\u001b[38;5;28mself\u001b[39m.top_p,\n\u001b[32m    221\u001b[39m )\n\u001b[32m    222\u001b[39m response_text = response.content[\u001b[32m0\u001b[39m].text\n\u001b[32m    224\u001b[39m \u001b[38;5;66;03m### VALIDATE SQL ID NECESSARY\u001b[39;00m\n",
      "\u001b[36mFile \u001b[39m\u001b[32m~/.local/lib/python3.12/site-packages/anthropic/resources/messages.py:1817\u001b[39m, in \u001b[36mAsyncMessages.create\u001b[39m\u001b[34m(self, max_tokens, messages, model, metadata, stop_sequences, stream, system, temperature, tool_choice, tools, top_k, top_p, extra_headers, extra_query, extra_body, timeout)\u001b[39m\n\u001b[32m   1810\u001b[39m \u001b[38;5;28;01mif\u001b[39;00m model \u001b[38;5;129;01min\u001b[39;00m DEPRECATED_MODELS:\n\u001b[32m   1811\u001b[39m     warnings.warn(\n\u001b[32m   1812\u001b[39m         \u001b[33mf\u001b[39m\u001b[33m\"\u001b[39m\u001b[33mThe model \u001b[39m\u001b[33m'\u001b[39m\u001b[38;5;132;01m{\u001b[39;00mmodel\u001b[38;5;132;01m}\u001b[39;00m\u001b[33m'\u001b[39m\u001b[33m is deprecated and will reach end-of-life on \u001b[39m\u001b[38;5;132;01m{\u001b[39;00mDEPRECATED_MODELS[model]\u001b[38;5;132;01m}\u001b[39;00m\u001b[33m.\u001b[39m\u001b[38;5;130;01m\\n\u001b[39;00m\u001b[33mPlease migrate to a newer model. Visit https://docs.anthropic.com/en/docs/resources/model-deprecations for more information.\u001b[39m\u001b[33m\"\u001b[39m,\n\u001b[32m   1813\u001b[39m         \u001b[38;5;167;01mDeprecationWarning\u001b[39;00m,\n\u001b[32m   1814\u001b[39m         stacklevel=\u001b[32m3\u001b[39m,\n\u001b[32m   1815\u001b[39m     )\n\u001b[32m-> \u001b[39m\u001b[32m1817\u001b[39m \u001b[38;5;28;01mreturn\u001b[39;00m \u001b[38;5;28;01mawait\u001b[39;00m \u001b[38;5;28mself\u001b[39m._post(\n\u001b[32m   1818\u001b[39m     \u001b[33m\"\u001b[39m\u001b[33m/v1/messages\u001b[39m\u001b[33m\"\u001b[39m,\n\u001b[32m   1819\u001b[39m     body=\u001b[38;5;28;01mawait\u001b[39;00m async_maybe_transform(\n\u001b[32m   1820\u001b[39m         {\n\u001b[32m   1821\u001b[39m             \u001b[33m\"\u001b[39m\u001b[33mmax_tokens\u001b[39m\u001b[33m\"\u001b[39m: max_tokens,\n\u001b[32m   1822\u001b[39m             \u001b[33m\"\u001b[39m\u001b[33mmessages\u001b[39m\u001b[33m\"\u001b[39m: messages,\n\u001b[32m   1823\u001b[39m             \u001b[33m\"\u001b[39m\u001b[33mmodel\u001b[39m\u001b[33m\"\u001b[39m: model,\n\u001b[32m   1824\u001b[39m             \u001b[33m\"\u001b[39m\u001b[33mmetadata\u001b[39m\u001b[33m\"\u001b[39m: metadata,\n\u001b[32m   1825\u001b[39m             \u001b[33m\"\u001b[39m\u001b[33mstop_sequences\u001b[39m\u001b[33m\"\u001b[39m: stop_sequences,\n\u001b[32m   1826\u001b[39m             \u001b[33m\"\u001b[39m\u001b[33mstream\u001b[39m\u001b[33m\"\u001b[39m: stream,\n\u001b[32m   1827\u001b[39m             \u001b[33m\"\u001b[39m\u001b[33msystem\u001b[39m\u001b[33m\"\u001b[39m: system,\n\u001b[32m   1828\u001b[39m             \u001b[33m\"\u001b[39m\u001b[33mtemperature\u001b[39m\u001b[33m\"\u001b[39m: temperature,\n\u001b[32m   1829\u001b[39m             \u001b[33m\"\u001b[39m\u001b[33mtool_choice\u001b[39m\u001b[33m\"\u001b[39m: tool_choice,\n\u001b[32m   1830\u001b[39m             \u001b[33m\"\u001b[39m\u001b[33mtools\u001b[39m\u001b[33m\"\u001b[39m: tools,\n\u001b[32m   1831\u001b[39m             \u001b[33m\"\u001b[39m\u001b[33mtop_k\u001b[39m\u001b[33m\"\u001b[39m: top_k,\n\u001b[32m   1832\u001b[39m             \u001b[33m\"\u001b[39m\u001b[33mtop_p\u001b[39m\u001b[33m\"\u001b[39m: top_p,\n\u001b[32m   1833\u001b[39m         },\n\u001b[32m   1834\u001b[39m         message_create_params.MessageCreateParams,\n\u001b[32m   1835\u001b[39m     ),\n\u001b[32m   1836\u001b[39m     options=make_request_options(\n\u001b[32m   1837\u001b[39m         extra_headers=extra_headers, extra_query=extra_query, extra_body=extra_body, timeout=timeout\n\u001b[32m   1838\u001b[39m     ),\n\u001b[32m   1839\u001b[39m     cast_to=Message,\n\u001b[32m   1840\u001b[39m     stream=stream \u001b[38;5;129;01mor\u001b[39;00m \u001b[38;5;28;01mFalse\u001b[39;00m,\n\u001b[32m   1841\u001b[39m     stream_cls=AsyncStream[RawMessageStreamEvent],\n\u001b[32m   1842\u001b[39m )\n",
      "\u001b[36mFile \u001b[39m\u001b[32m~/.local/lib/python3.12/site-packages/anthropic/_base_client.py:1842\u001b[39m, in \u001b[36mAsyncAPIClient.post\u001b[39m\u001b[34m(self, path, cast_to, body, files, options, stream, stream_cls)\u001b[39m\n\u001b[32m   1828\u001b[39m \u001b[38;5;28;01masync\u001b[39;00m \u001b[38;5;28;01mdef\u001b[39;00m\u001b[38;5;250m \u001b[39m\u001b[34mpost\u001b[39m(\n\u001b[32m   1829\u001b[39m     \u001b[38;5;28mself\u001b[39m,\n\u001b[32m   1830\u001b[39m     path: \u001b[38;5;28mstr\u001b[39m,\n\u001b[32m   (...)\u001b[39m\u001b[32m   1837\u001b[39m     stream_cls: \u001b[38;5;28mtype\u001b[39m[_AsyncStreamT] | \u001b[38;5;28;01mNone\u001b[39;00m = \u001b[38;5;28;01mNone\u001b[39;00m,\n\u001b[32m   1838\u001b[39m ) -> ResponseT | _AsyncStreamT:\n\u001b[32m   1839\u001b[39m     opts = FinalRequestOptions.construct(\n\u001b[32m   1840\u001b[39m         method=\u001b[33m\"\u001b[39m\u001b[33mpost\u001b[39m\u001b[33m\"\u001b[39m, url=path, json_data=body, files=\u001b[38;5;28;01mawait\u001b[39;00m async_to_httpx_files(files), **options\n\u001b[32m   1841\u001b[39m     )\n\u001b[32m-> \u001b[39m\u001b[32m1842\u001b[39m     \u001b[38;5;28;01mreturn\u001b[39;00m \u001b[38;5;28;01mawait\u001b[39;00m \u001b[38;5;28mself\u001b[39m.request(cast_to, opts, stream=stream, stream_cls=stream_cls)\n",
      "\u001b[36mFile \u001b[39m\u001b[32m~/.local/lib/python3.12/site-packages/anthropic/_base_client.py:1536\u001b[39m, in \u001b[36mAsyncAPIClient.request\u001b[39m\u001b[34m(self, cast_to, options, stream, stream_cls, remaining_retries)\u001b[39m\n\u001b[32m   1533\u001b[39m \u001b[38;5;28;01melse\u001b[39;00m:\n\u001b[32m   1534\u001b[39m     retries_taken = \u001b[32m0\u001b[39m\n\u001b[32m-> \u001b[39m\u001b[32m1536\u001b[39m \u001b[38;5;28;01mreturn\u001b[39;00m \u001b[38;5;28;01mawait\u001b[39;00m \u001b[38;5;28mself\u001b[39m._request(\n\u001b[32m   1537\u001b[39m     cast_to=cast_to,\n\u001b[32m   1538\u001b[39m     options=options,\n\u001b[32m   1539\u001b[39m     stream=stream,\n\u001b[32m   1540\u001b[39m     stream_cls=stream_cls,\n\u001b[32m   1541\u001b[39m     retries_taken=retries_taken,\n\u001b[32m   1542\u001b[39m )\n",
      "\u001b[36mFile \u001b[39m\u001b[32m~/.local/lib/python3.12/site-packages/anthropic/_base_client.py:1622\u001b[39m, in \u001b[36mAsyncAPIClient._request\u001b[39m\u001b[34m(self, cast_to, options, stream, stream_cls, retries_taken)\u001b[39m\n\u001b[32m   1620\u001b[39m \u001b[38;5;28;01mif\u001b[39;00m remaining_retries > \u001b[32m0\u001b[39m \u001b[38;5;129;01mand\u001b[39;00m \u001b[38;5;28mself\u001b[39m._should_retry(err.response):\n\u001b[32m   1621\u001b[39m     \u001b[38;5;28;01mawait\u001b[39;00m err.response.aclose()\n\u001b[32m-> \u001b[39m\u001b[32m1622\u001b[39m     \u001b[38;5;28;01mreturn\u001b[39;00m \u001b[38;5;28;01mawait\u001b[39;00m \u001b[38;5;28mself\u001b[39m._retry_request(\n\u001b[32m   1623\u001b[39m         input_options,\n\u001b[32m   1624\u001b[39m         cast_to,\n\u001b[32m   1625\u001b[39m         retries_taken=retries_taken,\n\u001b[32m   1626\u001b[39m         response_headers=err.response.headers,\n\u001b[32m   1627\u001b[39m         stream=stream,\n\u001b[32m   1628\u001b[39m         stream_cls=stream_cls,\n\u001b[32m   1629\u001b[39m     )\n\u001b[32m   1631\u001b[39m \u001b[38;5;66;03m# If the response is streamed then we need to explicitly read the response\u001b[39;00m\n\u001b[32m   1632\u001b[39m \u001b[38;5;66;03m# to completion before attempting to access the response text.\u001b[39;00m\n\u001b[32m   1633\u001b[39m \u001b[38;5;28;01mif\u001b[39;00m \u001b[38;5;129;01mnot\u001b[39;00m err.response.is_closed:\n",
      "\u001b[36mFile \u001b[39m\u001b[32m~/.local/lib/python3.12/site-packages/anthropic/_base_client.py:1669\u001b[39m, in \u001b[36mAsyncAPIClient._retry_request\u001b[39m\u001b[34m(self, options, cast_to, retries_taken, response_headers, stream, stream_cls)\u001b[39m\n\u001b[32m   1665\u001b[39m log.info(\u001b[33m\"\u001b[39m\u001b[33mRetrying request to \u001b[39m\u001b[38;5;132;01m%s\u001b[39;00m\u001b[33m in \u001b[39m\u001b[38;5;132;01m%f\u001b[39;00m\u001b[33m seconds\u001b[39m\u001b[33m\"\u001b[39m, options.url, timeout)\n\u001b[32m   1667\u001b[39m \u001b[38;5;28;01mawait\u001b[39;00m anyio.sleep(timeout)\n\u001b[32m-> \u001b[39m\u001b[32m1669\u001b[39m \u001b[38;5;28;01mreturn\u001b[39;00m \u001b[38;5;28;01mawait\u001b[39;00m \u001b[38;5;28mself\u001b[39m._request(\n\u001b[32m   1670\u001b[39m     options=options,\n\u001b[32m   1671\u001b[39m     cast_to=cast_to,\n\u001b[32m   1672\u001b[39m     retries_taken=retries_taken + \u001b[32m1\u001b[39m,\n\u001b[32m   1673\u001b[39m     stream=stream,\n\u001b[32m   1674\u001b[39m     stream_cls=stream_cls,\n\u001b[32m   1675\u001b[39m )\n",
      "\u001b[36mFile \u001b[39m\u001b[32m~/.local/lib/python3.12/site-packages/anthropic/_base_client.py:1622\u001b[39m, in \u001b[36mAsyncAPIClient._request\u001b[39m\u001b[34m(self, cast_to, options, stream, stream_cls, retries_taken)\u001b[39m\n\u001b[32m   1620\u001b[39m \u001b[38;5;28;01mif\u001b[39;00m remaining_retries > \u001b[32m0\u001b[39m \u001b[38;5;129;01mand\u001b[39;00m \u001b[38;5;28mself\u001b[39m._should_retry(err.response):\n\u001b[32m   1621\u001b[39m     \u001b[38;5;28;01mawait\u001b[39;00m err.response.aclose()\n\u001b[32m-> \u001b[39m\u001b[32m1622\u001b[39m     \u001b[38;5;28;01mreturn\u001b[39;00m \u001b[38;5;28;01mawait\u001b[39;00m \u001b[38;5;28mself\u001b[39m._retry_request(\n\u001b[32m   1623\u001b[39m         input_options,\n\u001b[32m   1624\u001b[39m         cast_to,\n\u001b[32m   1625\u001b[39m         retries_taken=retries_taken,\n\u001b[32m   1626\u001b[39m         response_headers=err.response.headers,\n\u001b[32m   1627\u001b[39m         stream=stream,\n\u001b[32m   1628\u001b[39m         stream_cls=stream_cls,\n\u001b[32m   1629\u001b[39m     )\n\u001b[32m   1631\u001b[39m \u001b[38;5;66;03m# If the response is streamed then we need to explicitly read the response\u001b[39;00m\n\u001b[32m   1632\u001b[39m \u001b[38;5;66;03m# to completion before attempting to access the response text.\u001b[39;00m\n\u001b[32m   1633\u001b[39m \u001b[38;5;28;01mif\u001b[39;00m \u001b[38;5;129;01mnot\u001b[39;00m err.response.is_closed:\n",
      "\u001b[36mFile \u001b[39m\u001b[32m~/.local/lib/python3.12/site-packages/anthropic/_base_client.py:1669\u001b[39m, in \u001b[36mAsyncAPIClient._retry_request\u001b[39m\u001b[34m(self, options, cast_to, retries_taken, response_headers, stream, stream_cls)\u001b[39m\n\u001b[32m   1665\u001b[39m log.info(\u001b[33m\"\u001b[39m\u001b[33mRetrying request to \u001b[39m\u001b[38;5;132;01m%s\u001b[39;00m\u001b[33m in \u001b[39m\u001b[38;5;132;01m%f\u001b[39;00m\u001b[33m seconds\u001b[39m\u001b[33m\"\u001b[39m, options.url, timeout)\n\u001b[32m   1667\u001b[39m \u001b[38;5;28;01mawait\u001b[39;00m anyio.sleep(timeout)\n\u001b[32m-> \u001b[39m\u001b[32m1669\u001b[39m \u001b[38;5;28;01mreturn\u001b[39;00m \u001b[38;5;28;01mawait\u001b[39;00m \u001b[38;5;28mself\u001b[39m._request(\n\u001b[32m   1670\u001b[39m     options=options,\n\u001b[32m   1671\u001b[39m     cast_to=cast_to,\n\u001b[32m   1672\u001b[39m     retries_taken=retries_taken + \u001b[32m1\u001b[39m,\n\u001b[32m   1673\u001b[39m     stream=stream,\n\u001b[32m   1674\u001b[39m     stream_cls=stream_cls,\n\u001b[32m   1675\u001b[39m )\n",
      "\u001b[36mFile \u001b[39m\u001b[32m~/.local/lib/python3.12/site-packages/anthropic/_base_client.py:1637\u001b[39m, in \u001b[36mAsyncAPIClient._request\u001b[39m\u001b[34m(self, cast_to, options, stream, stream_cls, retries_taken)\u001b[39m\n\u001b[32m   1634\u001b[39m         \u001b[38;5;28;01mawait\u001b[39;00m err.response.aread()\n\u001b[32m   1636\u001b[39m     log.debug(\u001b[33m\"\u001b[39m\u001b[33mRe-raising status error\u001b[39m\u001b[33m\"\u001b[39m)\n\u001b[32m-> \u001b[39m\u001b[32m1637\u001b[39m     \u001b[38;5;28;01mraise\u001b[39;00m \u001b[38;5;28mself\u001b[39m._make_status_error_from_response(err.response) \u001b[38;5;28;01mfrom\u001b[39;00m\u001b[38;5;250m \u001b[39m\u001b[38;5;28;01mNone\u001b[39;00m\n\u001b[32m   1639\u001b[39m \u001b[38;5;28;01mreturn\u001b[39;00m \u001b[38;5;28;01mawait\u001b[39;00m \u001b[38;5;28mself\u001b[39m._process_response(\n\u001b[32m   1640\u001b[39m     cast_to=cast_to,\n\u001b[32m   1641\u001b[39m     options=options,\n\u001b[32m   (...)\u001b[39m\u001b[32m   1645\u001b[39m     retries_taken=retries_taken,\n\u001b[32m   1646\u001b[39m )\n",
      "\u001b[31mRateLimitError\u001b[39m: Error code: 429 - {'message': 'Too many requests, please wait before trying again.'}"
     ]
    }
   ],
   "source": [
    "whatlives.analyze_definitions()\n",
    "# inference.test_acomplete()"
   ]
  },
  {
   "cell_type": "code",
   "execution_count": null,
   "id": "97041fc9-e78b-429f-93e4-be8acbef3fa6",
   "metadata": {},
   "outputs": [],
   "source": []
  },
  {
   "cell_type": "code",
   "execution_count": null,
   "id": "47db621f-719e-41e0-87b1-bf40c473d81b",
   "metadata": {},
   "outputs": [],
   "source": []
  },
  {
   "cell_type": "code",
   "execution_count": null,
   "id": "97f82686-5c5e-44ca-a8ee-34a52908e7c7",
   "metadata": {},
   "outputs": [],
   "source": []
  },
  {
   "cell_type": "code",
   "execution_count": null,
   "id": "2fa2c227-3dab-478e-a17c-d1d3b9f30bb9",
   "metadata": {},
   "outputs": [],
   "source": []
  },
  {
   "cell_type": "code",
   "execution_count": null,
   "id": "babc5af1-eafd-427d-960d-fcdfb055adaf",
   "metadata": {},
   "outputs": [],
   "source": []
  }
 ],
 "metadata": {
  "kernelspec": {
   "display_name": "Python 3 (ipykernel)",
   "language": "python",
   "name": "python3"
  },
  "language_info": {
   "codemirror_mode": {
    "name": "ipython",
    "version": 3
   },
   "file_extension": ".py",
   "mimetype": "text/x-python",
   "name": "python",
   "nbconvert_exporter": "python",
   "pygments_lexer": "ipython3",
   "version": "3.12.9"
  }
 },
 "nbformat": 4,
 "nbformat_minor": 5
}
